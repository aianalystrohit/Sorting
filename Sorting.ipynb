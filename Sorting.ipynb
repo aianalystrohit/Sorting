{
 "cells": [
  {
   "cell_type": "code",
   "execution_count": 4,
   "id": "3e7488ff-8784-4261-b64e-19500dd3f2ad",
   "metadata": {},
   "outputs": [],
   "source": [
    "from collections import Counter\n",
    "\n",
    "def most_frequent_counter(nums):\n",
    "  \"\"\"\n",
    "  Finds the most frequent element using Counter.\n",
    "\n",
    "  Args:\n",
    "    nums: A list of numbers.\n",
    "\n",
    "  Returns:\n",
    "    The most frequent element in the array.\n",
    "  \"\"\"\n",
    "\n",
    "  counter = Counter(nums)\n",
    "  most_common_element, _ = counter.most_common(1)[0]\n",
    "  return most_common_element"
   ]
  },
  {
   "cell_type": "code",
   "execution_count": 3,
   "id": "28e78da0-2bb0-40f0-94fd-225c86c6b6e8",
   "metadata": {},
   "outputs": [
    {
     "name": "stdout",
     "output_type": "stream",
     "text": [
      "5\n"
     ]
    }
   ],
   "source": [
    "def find_missing_number(nums):\n",
    "\n",
    "  num_set = set(nums)\n",
    "  n = len(nums) + 1\n",
    "\n",
    "  for i in range(1, n + 1):\n",
    "    if i not in num_set:\n",
    "      return i\n",
    "\n",
    "# Example usage:\n",
    "nums = [1, 2, 4, 6, 3, 7, 8]\n",
    "missing_number = find_missing_number(nums)\n",
    "print(missing_number)  # Output: 5"
   ]
  },
  {
   "cell_type": "code",
   "execution_count": 6,
   "id": "aa275332-2924-4300-b6de-ef361231368f",
   "metadata": {},
   "outputs": [
    {
     "name": "stdout",
     "output_type": "stream",
     "text": [
      "3\n"
     ]
    }
   ],
   "source": [
    "def find_odd_occurring_number(nums):\n",
    "\n",
    "  result = 0\n",
    "  for num in nums:\n",
    "    result ^= num\n",
    "\n",
    "  return result\n",
    "\n",
    "# Example usage:\n",
    "nums = [1, 2, 3, 2, 3, 1, 3]\n",
    "odd_occurring_number = find_odd_occurring_number(nums)\n",
    "print(odd_occurring_number)  # Output: 3"
   ]
  },
  {
   "cell_type": "code",
   "execution_count": 7,
   "id": "8207cc94-6c5a-44d5-b0e5-b1a337275132",
   "metadata": {},
   "outputs": [
    {
     "name": "stdout",
     "output_type": "stream",
     "text": [
      "(1, 4)\n"
     ]
    }
   ],
   "source": [
    "def find_pair_brute_force(nums, k):\n",
    "\n",
    "  n = len(nums)\n",
    "  for i in range(n - 1):\n",
    "    for j in range(i + 1, n):\n",
    "      if nums[i] + nums[j] == k:\n",
    "        return i, j\n",
    "\n",
    "  return None\n",
    "\n",
    "# Example usage:\n",
    "nums = [1, 2, 3, 4, 5]\n",
    "k = 7\n",
    "result = find_pair_brute_force(nums, k)\n",
    "print(result)  # Output: (2, 4)"
   ]
  },
  {
   "cell_type": "code",
   "execution_count": 9,
   "id": "fff32881-a614-4848-bc1f-877e7de38105",
   "metadata": {},
   "outputs": [
    {
     "name": "stdout",
     "output_type": "stream",
     "text": [
      "(-80, 85)\n"
     ]
    }
   ],
   "source": [
    "def find_closest_pair(nums):\n",
    "  nums.sort()\n",
    "  n = len(nums)\n",
    "  left, right = 0, n - 1\n",
    "  min_diff = float('inf')\n",
    "  closest_pair = None\n",
    "\n",
    "  while left < right:\n",
    "    sum = nums[left] + nums[right]\n",
    "    if abs(sum) < min_diff:\n",
    "      min_diff = abs(sum)\n",
    "      closest_pair = (nums[left], nums[right])\n",
    "    if sum < 0:\n",
    "      left += 1\n",
    "    else:\n",
    "      right -= 1\n",
    "\n",
    "  return closest_pair\n",
    "\n",
    "# Example usage:\n",
    "nums = [1, 60, -10, 70, -80, 85]\n",
    "result = find_closest_pair(nums)\n",
    "print(result) "
   ]
  },
  {
   "cell_type": "code",
   "execution_count": 11,
   "id": "d42b662a-fb94-4eba-84ea-7306766e8ebe",
   "metadata": {},
   "outputs": [
    {
     "name": "stdout",
     "output_type": "stream",
     "text": [
      "(1, 2, 5)\n"
     ]
    }
   ],
   "source": [
    "def find_three_elements(nums, k):\n",
    "  nums.sort()\n",
    "  n = len(nums)\n",
    "\n",
    "  for i in range(n - 2):\n",
    "    left = i + 1\n",
    "    right = n - 1\n",
    "\n",
    "    while left < right:\n",
    "      sum = nums[i] + nums[left] + nums[right]\n",
    "      if sum == k:\n",
    "        return nums[i], nums[left], nums[right]\n",
    "      elif sum < k:\n",
    "        left += 1\n",
    "      else:\n",
    "        right -= 1\n",
    "\n",
    "  return None\n",
    "\n",
    "# Example usage:\n",
    "nums = [1, 2, 3, 4, 5]\n",
    "k = 8\n",
    "result = find_three_elements(nums, k)\n",
    "print(result) "
   ]
  },
  {
   "cell_type": "code",
   "execution_count": 14,
   "id": "d5287cb0-1116-4ae1-bb8a-99e721fb0246",
   "metadata": {},
   "outputs": [
    {
     "name": "stdout",
     "output_type": "stream",
     "text": [
      "(3, 4, 5)\n"
     ]
    }
   ],
   "source": [
    "def find_pythagorean_triplet(nums):\n",
    "  nums.sort()\n",
    "  n = len(nums)\n",
    "\n",
    "  for i in range(n - 2):\n",
    "    left = i + 1\n",
    "    right = n - 1\n",
    "\n",
    "    while left < right:\n",
    "      a_squared = nums[i] * nums[i]\n",
    "      b_squared = nums[left] * nums[left]\n",
    "      c_squared = nums[right] * nums[right]\n",
    "\n",
    "      if a_squared + b_squared == c_squared:\n",
    "        return nums[i], nums[left], nums[right]\n",
    "      elif a_squared + b_squared < c_squared:\n",
    "        left += 1\n",
    "      else:\n",
    "        right -= 1\n",
    "\n",
    "  return None\n",
    "\n",
    "\n",
    "nums = [3, 1, 4, 1, 5]\n",
    "result = find_pythagorean_triplet(nums)\n",
    "print(result)"
   ]
  },
  {
   "cell_type": "code",
   "execution_count": 15,
   "id": "df132822-39d7-4c7b-bac6-230a9357ec56",
   "metadata": {},
   "outputs": [
    {
     "name": "stdout",
     "output_type": "stream",
     "text": [
      "2\n"
     ]
    }
   ],
   "source": [
    "def find_majority_element(nums):\n",
    "\n",
    "  candidate = nums[0]\n",
    "  count = 1\n",
    "\n",
    "  for num in nums[1:]:\n",
    "    if num == candidate:\n",
    "      count += 1\n",
    "    else:\n",
    "      count -= 1\n",
    "      if count == 0:\n",
    "        candidate = num\n",
    "        count = 1\n",
    "\n",
    "  # Verify if the candidate is the majority element\n",
    "  count = 0\n",
    "  for num in nums:\n",
    "    if num == candidate:\n",
    "      count += 1\n",
    "  if count > len(nums) // 2:\n",
    "    return candidate\n",
    "\n",
    "  return None\n",
    "\n",
    "# Example usage:\n",
    "nums = [2, 1, 2, 2, 3, 2, 2]\n",
    "majority_element = find_majority_element(nums)\n",
    "print(majority_element)"
   ]
  },
  {
   "cell_type": "code",
   "execution_count": 17,
   "id": "d61c3b2b-ca37-49a2-9165-b1b08ad6b988",
   "metadata": {},
   "outputs": [],
   "source": [
    "#Problem 10 : Sort an array of 0’s, 1’s and 2’s [or R’s, G’s and B’s]: Given an array A[] consisting of 0’s, 1’s and 2’s, give an algorithm for sorting A[].The algorithm should put all 0’s first, then all 1’s and finally all 2’s at the end. Example Input = {0,1,1,0,1,2,1,2,0,0,0,1}, Output = {0,0,0,0,0,1,1,1,1,1,2,2} \n"
   ]
  },
  {
   "cell_type": "code",
   "execution_count": 20,
   "id": "cccabd36-4100-48c1-a9d5-1c81fbbd9fb4",
   "metadata": {},
   "outputs": [
    {
     "name": "stdout",
     "output_type": "stream",
     "text": [
      "[0, 0, 0, 0, 0, 1, 1, 1, 1, 1, 2, 2]\n"
     ]
    }
   ],
   "source": [
    "def sort_0s_1s_2s(nums):\n",
    "  low = 0\n",
    "  mid = 0\n",
    "  high = len(nums) - 1\n",
    "\n",
    "  while mid <= high:\n",
    "    if nums[mid] == 0:\n",
    "      nums[low], nums[mid] = nums[mid], nums[low]\n",
    "      low += 1\n",
    "      mid += 1\n",
    "    elif nums[mid] == 1:\n",
    "      mid += 1\n",
    "    else:\n",
    "      nums[mid], nums[high] = nums[high], nums[mid]\n",
    "      high -= 1\n",
    "\n",
    "# Example usage:\n",
    "nums = [0, 1, 1, 0, 1, 2, 1, 2, 0, 0, 0, 1]\n",
    "sort_0s_1s_2s(nums)\n",
    "print(nums)"
   ]
  },
  {
   "cell_type": "code",
   "execution_count": null,
   "id": "5d6d7860-2ec7-4947-a41a-38e8e591d4bf",
   "metadata": {},
   "outputs": [],
   "source": []
  }
 ],
 "metadata": {
  "kernelspec": {
   "display_name": "Python 3 (ipykernel)",
   "language": "python",
   "name": "python3"
  },
  "language_info": {
   "codemirror_mode": {
    "name": "ipython",
    "version": 3
   },
   "file_extension": ".py",
   "mimetype": "text/x-python",
   "name": "python",
   "nbconvert_exporter": "python",
   "pygments_lexer": "ipython3",
   "version": "3.12.4"
  }
 },
 "nbformat": 4,
 "nbformat_minor": 5
}
